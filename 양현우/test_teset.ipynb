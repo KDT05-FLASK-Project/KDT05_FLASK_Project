{
 "cells": [
  {
   "cell_type": "code",
   "execution_count": 5,
   "metadata": {},
   "outputs": [
    {
     "name": "stdout",
     "output_type": "stream",
     "text": [
      "Collecting git+https://****@github.com/SKTBrain/KoBERT.git@master\n",
      "  Cloning https://****@github.com/SKTBrain/KoBERT.git (to revision master) to c:\\users\\hg_91\\appdata\\local\\temp\\pip-req-build-beqjkvac\n",
      "  Resolved https://****@github.com/SKTBrain/KoBERT.git to commit 47a69af87928fc24e20f571fe10c3cc9dd9af9a3\n",
      "  Preparing metadata (setup.py): started\n",
      "  Preparing metadata (setup.py): finished with status 'done'\n",
      "Collecting boto3<=1.15.18 (from kobert==0.2.3)\n",
      "  Using cached boto3-1.15.18-py2.py3-none-any.whl.metadata (5.3 kB)\n",
      "Collecting gluonnlp<=0.10.0,>=0.6.0 (from kobert==0.2.3)\n",
      "  Using cached gluonnlp-0.10.0.tar.gz (344 kB)\n",
      "  Preparing metadata (setup.py): started\n",
      "  Preparing metadata (setup.py): finished with status 'done'\n",
      "Collecting mxnet<=1.7.0.post2,>=1.4.0 (from kobert==0.2.3)\n",
      "  Using cached mxnet-1.7.0.post2-py2.py3-none-win_amd64.whl.metadata (402 bytes)\n",
      "Collecting onnxruntime<=1.8.0,==1.8.0 (from kobert==0.2.3)\n",
      "  Using cached onnxruntime-1.8.0-cp38-cp38-win_amd64.whl.metadata (3.0 kB)\n",
      "Collecting sentencepiece<=0.1.96,>=0.1.6 (from kobert==0.2.3)\n",
      "  Using cached sentencepiece-0.1.96-cp38-cp38-win_amd64.whl.metadata (10 kB)\n",
      "Collecting torch<=1.10.1,>=1.7.0 (from kobert==0.2.3)\n",
      "  Using cached torch-1.10.1-cp38-cp38-win_amd64.whl.metadata (24 kB)\n",
      "Collecting transformers<=4.8.1,>=4.8.1 (from kobert==0.2.3)\n",
      "  Using cached transformers-4.8.1-py3-none-any.whl.metadata (48 kB)\n",
      "Requirement already satisfied: numpy>=1.16.6 in e:\\user\\administrator\\anaconda3\\envs\\my_38\\lib\\site-packages (from onnxruntime<=1.8.0,==1.8.0->kobert==0.2.3) (1.24.3)\n",
      "Collecting protobuf (from onnxruntime<=1.8.0,==1.8.0->kobert==0.2.3)\n",
      "  Using cached protobuf-5.26.1-cp38-cp38-win_amd64.whl.metadata (592 bytes)\n",
      "Collecting flatbuffers (from onnxruntime<=1.8.0,==1.8.0->kobert==0.2.3)\n",
      "  Using cached flatbuffers-24.3.25-py2.py3-none-any.whl.metadata (850 bytes)\n",
      "Collecting botocore<1.19.0,>=1.18.18 (from boto3<=1.15.18->kobert==0.2.3)\n",
      "  Using cached botocore-1.18.18-py2.py3-none-any.whl.metadata (4.7 kB)\n",
      "Collecting jmespath<1.0.0,>=0.7.1 (from boto3<=1.15.18->kobert==0.2.3)\n",
      "  Using cached jmespath-0.10.0-py2.py3-none-any.whl.metadata (8.0 kB)\n",
      "Collecting s3transfer<0.4.0,>=0.3.0 (from boto3<=1.15.18->kobert==0.2.3)\n",
      "  Using cached s3transfer-0.3.7-py2.py3-none-any.whl.metadata (1.4 kB)\n",
      "Collecting cython (from gluonnlp<=0.10.0,>=0.6.0->kobert==0.2.3)\n",
      "  Using cached Cython-3.0.10-cp38-cp38-win_amd64.whl.metadata (3.2 kB)\n",
      "Requirement already satisfied: packaging in e:\\user\\administrator\\anaconda3\\envs\\my_38\\lib\\site-packages (from gluonnlp<=0.10.0,>=0.6.0->kobert==0.2.3) (23.1)\n",
      "Collecting numpy>=1.16.6 (from onnxruntime<=1.8.0,==1.8.0->kobert==0.2.3)\n",
      "  Using cached numpy-1.16.6.zip (5.1 MB)\n",
      "  Preparing metadata (setup.py): started\n",
      "  Preparing metadata (setup.py): finished with status 'done'\n",
      "Collecting requests<2.19.0,>=2.18.4 (from mxnet<=1.7.0.post2,>=1.4.0->kobert==0.2.3)\n",
      "  Using cached requests-2.18.4-py2.py3-none-any.whl.metadata (50 kB)\n",
      "Collecting graphviz<0.9.0,>=0.8.1 (from mxnet<=1.7.0.post2,>=1.4.0->kobert==0.2.3)\n",
      "  Using cached graphviz-0.8.4-py2.py3-none-any.whl.metadata (6.4 kB)\n",
      "Requirement already satisfied: typing-extensions in e:\\user\\administrator\\anaconda3\\envs\\my_38\\lib\\site-packages (from torch<=1.10.1,>=1.7.0->kobert==0.2.3) (4.9.0)\n",
      "Requirement already satisfied: filelock in e:\\user\\administrator\\anaconda3\\envs\\my_38\\lib\\site-packages (from transformers<=4.8.1,>=4.8.1->kobert==0.2.3) (3.9.0)\n",
      "Collecting huggingface-hub==0.0.12 (from transformers<=4.8.1,>=4.8.1->kobert==0.2.3)\n",
      "  Using cached huggingface_hub-0.0.12-py3-none-any.whl.metadata (5.6 kB)\n",
      "INFO: pip is looking at multiple versions of transformers to determine which version is compatible with other requirements. This could take a while.\n",
      "Collecting mxnet<=1.7.0.post2,>=1.4.0 (from kobert==0.2.3)\n",
      "  Using cached mxnet-1.7.0.post1-py2.py3-none-win_amd64.whl.metadata (402 bytes)\n",
      "  Using cached mxnet-1.6.0-py2.py3-none-win_amd64.whl.metadata (430 bytes)\n",
      "  Using cached mxnet-1.5.0-py2.py3-none-win_amd64.whl.metadata (430 bytes)\n",
      "  Using cached mxnet-1.4.1-py2.py3-none-win_amd64.whl.metadata (430 bytes)\n",
      "  Using cached mxnet-1.4.0.post0-py2.py3-none-win_amd64.whl.metadata (436 bytes)\n",
      "INFO: pip is looking at multiple versions of mxnet to determine which version is compatible with other requirements. This could take a while.\n",
      "  Using cached mxnet-1.4.0-py2.py3-none-win_amd64.whl.metadata (430 bytes)\n",
      "Collecting gluonnlp<=0.10.0,>=0.6.0 (from kobert==0.2.3)\n",
      "  Using cached gluonnlp-0.9.2.tar.gz (252 kB)\n",
      "  Preparing metadata (setup.py): started\n",
      "  Preparing metadata (setup.py): finished with status 'done'\n",
      "INFO: pip is still looking at multiple versions of transformers to determine which version is compatible with other requirements. This could take a while.\n",
      "  Using cached gluonnlp-0.9.1.tar.gz (252 kB)\n",
      "  Preparing metadata (setup.py): started\n",
      "  Preparing metadata (setup.py): finished with status 'done'\n",
      "INFO: This is taking longer than usual. You might need to provide the dependency resolver with stricter constraints to reduce runtime. See https://pip.pypa.io/warnings/backtracking for guidance. If you want to abort this run, press Ctrl + C.\n",
      "  Using cached gluonnlp-0.9.0.post0.tar.gz (252 kB)\n",
      "  Preparing metadata (setup.py): started\n",
      "  Preparing metadata (setup.py): finished with status 'done'\n",
      "INFO: pip is still looking at multiple versions of mxnet to determine which version is compatible with other requirements. This could take a while.\n",
      "  Using cached gluonnlp-0.8.3.tar.gz (236 kB)\n",
      "  Preparing metadata (setup.py): started\n",
      "  Preparing metadata (setup.py): finished with status 'done'\n",
      "  Using cached gluonnlp-0.8.2.tar.gz (237 kB)\n",
      "  Preparing metadata (setup.py): started\n",
      "  Preparing metadata (setup.py): finished with status 'done'\n",
      "  Using cached gluonnlp-0.8.1.tar.gz (236 kB)\n",
      "  Preparing metadata (setup.py): started\n",
      "  Preparing metadata (setup.py): finished with status 'done'\n",
      "INFO: This is taking longer than usual. You might need to provide the dependency resolver with stricter constraints to reduce runtime. See https://pip.pypa.io/warnings/backtracking for guidance. If you want to abort this run, press Ctrl + C.\n",
      "  Using cached gluonnlp-0.8.0.tar.gz (235 kB)\n",
      "  Preparing metadata (setup.py): started\n",
      "  Preparing metadata (setup.py): finished with status 'done'\n",
      "  Using cached gluonnlp-0.7.1.tar.gz (233 kB)\n",
      "  Preparing metadata (setup.py): started\n",
      "  Preparing metadata (setup.py): finished with status 'done'\n",
      "  Using cached gluonnlp-0.7.0.tar.gz (233 kB)\n",
      "  Preparing metadata (setup.py): started\n",
      "  Preparing metadata (setup.py): finished with status 'done'\n",
      "  Using cached gluonnlp-0.6.0.tar.gz (209 kB)\n",
      "  Preparing metadata (setup.py): started\n",
      "  Preparing metadata (setup.py): finished with status 'done'\n",
      "\n",
      "The conflict is caused by:\n",
      "    onnxruntime 1.8.0 depends on numpy>=1.16.6\n",
      "    gluonnlp 0.6.0 depends on numpy\n",
      "    mxnet 1.4.0.post0 depends on numpy<1.15.0 and >=1.8.2\n",
      "    onnxruntime 1.8.0 depends on numpy>=1.16.6\n",
      "    gluonnlp 0.6.0 depends on numpy\n",
      "    mxnet 1.4.0 depends on numpy<1.15.0 and >=1.8.2\n",
      "\n",
      "To fix this you could try to:\n",
      "1. loosen the range of package versions you've specified\n",
      "2. remove package versions to allow pip attempt to solve the dependency conflict\n",
      "\n",
      "Note: you may need to restart the kernel to use updated packages.\n"
     ]
    },
    {
     "name": "stderr",
     "output_type": "stream",
     "text": [
      "  Running command git clone --filter=blob:none --quiet 'https://****@github.com/SKTBrain/KoBERT.git' 'C:\\Users\\hg_91\\AppData\\Local\\Temp\\pip-req-build-beqjkvac'\n",
      "ERROR: Cannot install kobert because these package versions have conflicting dependencies.\n",
      "ERROR: ResolutionImpossible: for help visit https://pip.pypa.io/en/latest/topics/dependency-resolution/#dealing-with-dependency-conflicts\n"
     ]
    }
   ],
   "source": [
    "%pip install git+https://git@github.com/SKTBrain/KoBERT.git@master"
   ]
  },
  {
   "cell_type": "code",
   "execution_count": 6,
   "metadata": {},
   "outputs": [
    {
     "ename": "SyntaxError",
     "evalue": "invalid syntax (3603489747.py, line 1)",
     "output_type": "error",
     "traceback": [
      "\u001b[1;36m  Cell \u001b[1;32mIn[6], line 1\u001b[1;36m\u001b[0m\n\u001b[1;33m    git clone https://github.com/SKTBrain/KoBERT.Git\u001b[0m\n\u001b[1;37m        ^\u001b[0m\n\u001b[1;31mSyntaxError\u001b[0m\u001b[1;31m:\u001b[0m invalid syntax\n"
     ]
    }
   ],
   "source": [
    "git clone https://github.com/SKTBrain/KoBERT.Git\n",
    "cd KoBERT\n",
    "pip install -r requirements.text\n",
    "pip install"
   ]
  },
  {
   "cell_type": "code",
   "execution_count": 3,
   "metadata": {},
   "outputs": [],
   "source": [
    "# !pip install ipywidgets\n",
    "import torch\n",
    "import torch.nn as nn\n",
    "import torch.nn.functional as F\n",
    "import torch.optim as optim\n",
    "from torch.utils.data import Dataset, DataLoader\n",
    "import numpy as np\n",
    "from tqdm.notebook import tqdm"
   ]
  },
  {
   "cell_type": "code",
   "execution_count": null,
   "metadata": {},
   "outputs": [],
   "source": [
    "from kobert "
   ]
  },
  {
   "cell_type": "code",
   "execution_count": null,
   "metadata": {},
   "outputs": [],
   "source": [
    "## cpu\n",
    "device = \"cuda\" if torch.cuda.is_available() else \"cpu\""
   ]
  }
 ],
 "metadata": {
  "kernelspec": {
   "display_name": "My_38",
   "language": "python",
   "name": "python3"
  },
  "language_info": {
   "codemirror_mode": {
    "name": "ipython",
    "version": 3
   },
   "file_extension": ".py",
   "mimetype": "text/x-python",
   "name": "python",
   "nbconvert_exporter": "python",
   "pygments_lexer": "ipython3",
   "version": "3.8.19"
  }
 },
 "nbformat": 4,
 "nbformat_minor": 2
}
