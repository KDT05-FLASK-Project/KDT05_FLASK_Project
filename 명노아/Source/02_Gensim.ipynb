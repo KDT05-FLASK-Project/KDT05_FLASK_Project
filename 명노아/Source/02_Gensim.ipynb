{
 "cells": [
  {
   "cell_type": "code",
   "execution_count": 1,
   "id": "a49f8cc3",
   "metadata": {},
   "outputs": [],
   "source": [
    "import pandas as pd\n",
    "from Korpora import Korpora\n",
    "from konlpy.tag import Okt\n",
    "\n",
    "corpus = pd.read_csv(\"../Data/Comment.csv\")"
   ]
  },
  {
   "cell_type": "code",
   "execution_count": 3,
   "id": "08c857be",
   "metadata": {},
   "outputs": [
    {
     "data": {
      "text/html": [
       "<div>\n",
       "<style scoped>\n",
       "    .dataframe tbody tr th:only-of-type {\n",
       "        vertical-align: middle;\n",
       "    }\n",
       "\n",
       "    .dataframe tbody tr th {\n",
       "        vertical-align: top;\n",
       "    }\n",
       "\n",
       "    .dataframe thead th {\n",
       "        text-align: right;\n",
       "    }\n",
       "</style>\n",
       "<table border=\"1\" class=\"dataframe\">\n",
       "  <thead>\n",
       "    <tr style=\"text-align: right;\">\n",
       "      <th></th>\n",
       "      <th>comment</th>\n",
       "      <th>author</th>\n",
       "      <th>date</th>\n",
       "      <th>num_likes</th>\n",
       "    </tr>\n",
       "  </thead>\n",
       "  <tbody>\n",
       "    <tr>\n",
       "      <th>0</th>\n",
       "      <td>저주 받은 검도 계승한 적 있습니다&lt;br&gt;거의 무기 콜렉터 ㅋㅋㅋ&lt;br&gt;✅&lt;a hr...</td>\n",
       "      <td>@sleepground</td>\n",
       "      <td>2024-04-18T06:52:03Z</td>\n",
       "      <td>513</td>\n",
       "    </tr>\n",
       "    <tr>\n",
       "      <th>1</th>\n",
       "      <td>ㅋㅋㅋㅋㅋㅋ</td>\n",
       "      <td>@yk_0720</td>\n",
       "      <td>2024-04-18T06:53:32Z</td>\n",
       "      <td>2</td>\n",
       "    </tr>\n",
       "    <tr>\n",
       "      <th>2</th>\n",
       "      <td>ㅋㅋㅋ</td>\n",
       "      <td>@user-me5bf3gy2v</td>\n",
       "      <td>2024-04-18T06:53:37Z</td>\n",
       "      <td>2</td>\n",
       "    </tr>\n",
       "    <tr>\n",
       "      <th>3</th>\n",
       "      <td>무기 컬렉터 ㅋㅋㅋㅋ</td>\n",
       "      <td>@ShabetOo0</td>\n",
       "      <td>2024-04-18T06:54:09Z</td>\n",
       "      <td>4</td>\n",
       "    </tr>\n",
       "    <tr>\n",
       "      <th>4</th>\n",
       "      <td>혹시 저도 계승할 수 있나요?</td>\n",
       "      <td>@user-vr3zh8co1f</td>\n",
       "      <td>2024-04-18T06:54:13Z</td>\n",
       "      <td>3</td>\n",
       "    </tr>\n",
       "    <tr>\n",
       "      <th>...</th>\n",
       "      <td>...</td>\n",
       "      <td>...</td>\n",
       "      <td>...</td>\n",
       "      <td>...</td>\n",
       "    </tr>\n",
       "    <tr>\n",
       "      <th>73738</th>\n",
       "      <td>@@user-lk7pr8se7z 제가 이 영상에 왔을때 이영상이 15초 전에 올라왔...</td>\n",
       "      <td>@Doexn_</td>\n",
       "      <td>2024-01-28T07:25:21Z</td>\n",
       "      <td>0</td>\n",
       "    </tr>\n",
       "    <tr>\n",
       "      <th>73739</th>\n",
       "      <td>와 대박!! 이게바로 이세카이?..</td>\n",
       "      <td>@woohyukjang3473</td>\n",
       "      <td>2024-01-28T07:14:58Z</td>\n",
       "      <td>0</td>\n",
       "    </tr>\n",
       "    <tr>\n",
       "      <th>73740</th>\n",
       "      <td>오늘도 영상 잘 볼게요!!!</td>\n",
       "      <td>@ohoeui</td>\n",
       "      <td>2024-01-28T07:14:57Z</td>\n",
       "      <td>0</td>\n",
       "    </tr>\n",
       "    <tr>\n",
       "      <th>73741</th>\n",
       "      <td>오</td>\n",
       "      <td>@user-vg9tx3wn4d</td>\n",
       "      <td>2024-01-28T07:14:57Z</td>\n",
       "      <td>0</td>\n",
       "    </tr>\n",
       "    <tr>\n",
       "      <th>73742</th>\n",
       "      <td>마법소녀 잠뜰님</td>\n",
       "      <td>@cqfhwl</td>\n",
       "      <td>2024-01-28T07:14:55Z</td>\n",
       "      <td>1</td>\n",
       "    </tr>\n",
       "  </tbody>\n",
       "</table>\n",
       "<p>73743 rows × 4 columns</p>\n",
       "</div>"
      ],
      "text/plain": [
       "                                                 comment            author  \\\n",
       "0      저주 받은 검도 계승한 적 있습니다<br>거의 무기 콜렉터 ㅋㅋㅋ<br>✅<a hr...      @sleepground   \n",
       "1                                                 ㅋㅋㅋㅋㅋㅋ          @yk_0720   \n",
       "2                                                    ㅋㅋㅋ  @user-me5bf3gy2v   \n",
       "3                                            무기 컬렉터 ㅋㅋㅋㅋ        @ShabetOo0   \n",
       "4                                       혹시 저도 계승할 수 있나요?  @user-vr3zh8co1f   \n",
       "...                                                  ...               ...   \n",
       "73738  @@user-lk7pr8se7z 제가 이 영상에 왔을때 이영상이 15초 전에 올라왔...           @Doexn_   \n",
       "73739                                와 대박!! 이게바로 이세카이?..  @woohyukjang3473   \n",
       "73740                                    오늘도 영상 잘 볼게요!!!           @ohoeui   \n",
       "73741                                                  오  @user-vg9tx3wn4d   \n",
       "73742                                           마법소녀 잠뜰님           @cqfhwl   \n",
       "\n",
       "                       date  num_likes  \n",
       "0      2024-04-18T06:52:03Z        513  \n",
       "1      2024-04-18T06:53:32Z          2  \n",
       "2      2024-04-18T06:53:37Z          2  \n",
       "3      2024-04-18T06:54:09Z          4  \n",
       "4      2024-04-18T06:54:13Z          3  \n",
       "...                     ...        ...  \n",
       "73738  2024-01-28T07:25:21Z          0  \n",
       "73739  2024-01-28T07:14:58Z          0  \n",
       "73740  2024-01-28T07:14:57Z          0  \n",
       "73741  2024-01-28T07:14:57Z          0  \n",
       "73742  2024-01-28T07:14:55Z          1  \n",
       "\n",
       "[73743 rows x 4 columns]"
      ]
     },
     "execution_count": 3,
     "metadata": {},
     "output_type": "execute_result"
    }
   ],
   "source": [
    "corpus"
   ]
  },
  {
   "cell_type": "code",
   "execution_count": 4,
   "id": "cd387120",
   "metadata": {},
   "outputs": [],
   "source": [
    "tokenizer = Okt()\n",
    "tokens = [tokenizer.morphs(review) for review in corpus.comment]"
   ]
  },
  {
   "cell_type": "code",
   "execution_count": 5,
   "id": "c121d6cd",
   "metadata": {},
   "outputs": [],
   "source": [
    "from gensim.models import Word2Vec\n",
    "\n",
    "\n",
    "word2vec = Word2Vec(\n",
    "    sentences=tokens,\n",
    "    vector_size=128,\n",
    "    window=5,\n",
    "    min_count=1,\n",
    "    sg=1,\n",
    "    epochs=3,\n",
    "    max_final_vocab=10000\n",
    ")"
   ]
  },
  {
   "cell_type": "code",
   "execution_count": 6,
   "id": "89b83369",
   "metadata": {},
   "outputs": [],
   "source": [
    "word2vec.save(\"./word2vec.model\")\n",
    "word2vec = Word2Vec.load(\"./word2vec.model\")"
   ]
  },
  {
   "cell_type": "code",
   "execution_count": 14,
   "id": "82db1c00",
   "metadata": {},
   "outputs": [
    {
     "name": "stdout",
     "output_type": "stream",
     "text": [
      "[-0.13119747 -0.21706526 -0.16385366  0.23436876  0.32412457  0.02247319\n",
      "  0.27886495 -0.24873996 -0.21546207 -0.05908812 -0.02252374  0.3414345\n",
      "  0.03190593  0.3183351   0.14777143 -0.18721291  0.45446986 -0.1614984\n",
      " -0.33309618  0.17657453  0.05139109 -0.00399886 -0.4758178  -0.04493817\n",
      "  0.17060606 -0.4843953  -0.04458258 -0.26275736  0.19177613  0.00225488\n",
      " -0.11836413  0.242319    0.40727746  0.2228171  -0.13209377 -0.12771982\n",
      "  0.02346163 -0.03312085 -0.06283128 -0.0499238   0.10890405  0.19079073\n",
      " -0.34962898  0.11058794 -0.05270893  0.03476163 -0.16924869  0.34395844\n",
      "  0.01980914  0.09783165  0.19175847  0.2691738   0.21441141 -0.18789609\n",
      "  0.07704082  0.2684671   0.26516977 -0.08228908 -0.20107695  0.22169317\n",
      " -0.13494085  0.40851566  0.23997435 -0.00461242  0.2174143  -0.5013253\n",
      " -0.16981839  0.16065446 -0.28387034 -0.24362709 -0.2745273   0.13810486\n",
      "  0.08134507  0.33698583 -0.03502255  0.0434599  -0.33982426  0.27116823\n",
      " -0.40502268 -0.12354109  0.00168343  0.12359767 -0.04100967  0.23189242\n",
      " -0.25682026  0.08644726 -0.05434482  0.08409004  0.36943284  0.25765437\n",
      "  0.29283628 -0.31254798  0.16600344  0.02845708  0.06765921  0.15221843\n",
      " -0.12369256  0.0680701   0.28246412  0.21572776  0.00330437 -0.09128039\n",
      " -0.20173873 -0.10156629  0.14706463  0.05189596 -0.02825897  0.0833881\n",
      "  0.13281703  0.37148118 -0.05246192  0.0819854   0.11717392  0.18312366\n",
      " -0.6959188  -0.04743974  0.32062265  0.4848667  -0.3237125   0.30416492\n",
      "  0.1877088   0.15473604  0.47905356  0.4713289  -0.08129945 -0.02557737\n",
      "  0.3506195  -0.06794777]\n",
      "[('💖', 0.865932047367096), ('멋지신', 0.7457040548324585), ('🐶🧡', 0.7267171740531921), ('송강', 0.7040014863014221), ('진화', 0.6655195951461792)]\n",
      "0.43795922\n"
     ]
    }
   ],
   "source": [
    "word = \"마인크래프트\"\n",
    "print(word2vec.wv[word])\n",
    "print(word2vec.wv.most_similar(word, topn=5))\n",
    "print(word2vec.wv.similarity(w1=word, w2=\"연기력\"))"
   ]
  },
  {
   "cell_type": "code",
   "execution_count": 5,
   "id": "6afbc109",
   "metadata": {},
   "outputs": [
    {
     "ename": "RuntimeError",
     "evalue": "\n----------------------------------------------------------\n\nFailed initializing MeCab. Please see the README for possible solutions:\n\n    https://github.com/SamuraiT/mecab-python3#common-issues\n\nIf you are still having trouble, please file an issue here, and include the\nERROR DETAILS below:\n\n    https://github.com/SamuraiT/mecab-python3/issues\n\nissueを英語で書く必要はありません。\n\n------------------- ERROR DETAILS ------------------------\narguments: \ndefault dictionary path: None\n[ifs] no such file or directory: c:\\mecab\\mecabrc\n----------------------------------------------------------\n",
     "output_type": "error",
     "traceback": [
      "\u001b[1;31m---------------------------------------------------------------------------\u001b[0m",
      "\u001b[1;31mRuntimeError\u001b[0m                              Traceback (most recent call last)",
      "File \u001b[1;32mc:\\ProgramData\\anaconda3\\envs\\TEXT_017_220_38\\lib\\site-packages\\MeCab\\__init__.py:137\u001b[0m, in \u001b[0;36mTagger.__init__\u001b[1;34m(self, rawargs)\u001b[0m\n\u001b[0;32m    136\u001b[0m \u001b[38;5;28;01mtry\u001b[39;00m:\n\u001b[1;32m--> 137\u001b[0m     \u001b[38;5;28;43msuper\u001b[39;49m\u001b[43m(\u001b[49m\u001b[43mTagger\u001b[49m\u001b[43m,\u001b[49m\u001b[43m \u001b[49m\u001b[38;5;28;43mself\u001b[39;49m\u001b[43m)\u001b[49m\u001b[38;5;241;43m.\u001b[39;49m\u001b[38;5;21;43m__init__\u001b[39;49m\u001b[43m(\u001b[49m\u001b[43margs\u001b[49m\u001b[43m)\u001b[49m\n\u001b[0;32m    138\u001b[0m \u001b[38;5;28;01mexcept\u001b[39;00m \u001b[38;5;167;01mRuntimeError\u001b[39;00m \u001b[38;5;28;01mas\u001b[39;00m ee:\n",
      "\u001b[1;31mRuntimeError\u001b[0m: ",
      "\nThe above exception was the direct cause of the following exception:\n",
      "\u001b[1;31mRuntimeError\u001b[0m                              Traceback (most recent call last)",
      "Cell \u001b[1;32mIn[5], line 5\u001b[0m\n\u001b[0;32m      2\u001b[0m \u001b[38;5;28;01mfrom\u001b[39;00m \u001b[38;5;21;01mgensim\u001b[39;00m\u001b[38;5;21;01m.\u001b[39;00m\u001b[38;5;21;01mmodels\u001b[39;00m \u001b[38;5;28;01mimport\u001b[39;00m Word2Vec\n\u001b[0;32m      4\u001b[0m \u001b[38;5;66;03m# Initialize MeCab with the path to the MeCab dictionary\u001b[39;00m\n\u001b[1;32m----> 5\u001b[0m mecab \u001b[38;5;241m=\u001b[39m \u001b[43mMeCab\u001b[49m\u001b[38;5;241;43m.\u001b[39;49m\u001b[43mTagger\u001b[49m\u001b[43m(\u001b[49m\u001b[43m)\u001b[49m\n\u001b[0;32m      7\u001b[0m \u001b[38;5;66;03m# Now, let's tokenize the Japanese sentences from the corpus\u001b[39;00m\n\u001b[0;32m      8\u001b[0m tokens \u001b[38;5;241m=\u001b[39m []\n",
      "File \u001b[1;32mc:\\ProgramData\\anaconda3\\envs\\TEXT_017_220_38\\lib\\site-packages\\MeCab\\__init__.py:139\u001b[0m, in \u001b[0;36mTagger.__init__\u001b[1;34m(self, rawargs)\u001b[0m\n\u001b[0;32m    137\u001b[0m     \u001b[38;5;28msuper\u001b[39m(Tagger, \u001b[38;5;28mself\u001b[39m)\u001b[38;5;241m.\u001b[39m\u001b[38;5;21m__init__\u001b[39m(args)\n\u001b[0;32m    138\u001b[0m \u001b[38;5;28;01mexcept\u001b[39;00m \u001b[38;5;167;01mRuntimeError\u001b[39;00m \u001b[38;5;28;01mas\u001b[39;00m ee:\n\u001b[1;32m--> 139\u001b[0m     \u001b[38;5;28;01mraise\u001b[39;00m \u001b[38;5;167;01mRuntimeError\u001b[39;00m(error_info(rawargs)) \u001b[38;5;28;01mfrom\u001b[39;00m \u001b[38;5;21;01mee\u001b[39;00m\n",
      "\u001b[1;31mRuntimeError\u001b[0m: \n----------------------------------------------------------\n\nFailed initializing MeCab. Please see the README for possible solutions:\n\n    https://github.com/SamuraiT/mecab-python3#common-issues\n\nIf you are still having trouble, please file an issue here, and include the\nERROR DETAILS below:\n\n    https://github.com/SamuraiT/mecab-python3/issues\n\nissueを英語で書く必要はありません。\n\n------------------- ERROR DETAILS ------------------------\narguments: \ndefault dictionary path: None\n[ifs] no such file or directory: c:\\mecab\\mecabrc\n----------------------------------------------------------\n"
     ]
    }
   ],
   "source": [
    "import MeCab\n",
    "from gensim.models import Word2Vec\n",
    "\n",
    "# Initialize MeCab with the path to the MeCab dictionary\n",
    "mecab = MeCab.Tagger()\n",
    "\n",
    "# Now, let's tokenize the Japanese sentences from the corpus\n",
    "tokens = []\n",
    "for review in corpus.comment:\n",
    "    # Tokenize the sentence into morphemes using MeCab\n",
    "    tokenized_sentence = mecab.parse(review).split('\\n')\n",
    "    tokenized_sentence = [token.split('\\t')[0] for token in tokenized_sentence if token.split('\\t')[0] != 'EOS' and token.split('\\t')[0] != '']\n",
    "    tokens.append(tokenized_sentence)\n",
    "\n",
    "# Create a Word2Vec model\n",
    "word2vec = Word2Vec(\n",
    "    sentences=tokens,\n",
    "    vector_size=128,\n",
    "    window=5,\n",
    "    min_count=1,\n",
    "    sg=1,\n",
    "    epochs=3,\n",
    "    max_final_vocab=10000\n",
    ")\n"
   ]
  },
  {
   "cell_type": "code",
   "execution_count": 4,
   "id": "2af10c23",
   "metadata": {},
   "outputs": [
    {
     "name": "stdout",
     "output_type": "stream",
     "text": [
      "Defaulting to user installation because normal site-packages is not writeable\n",
      "Collecting mecab\n",
      "  Downloading mecab-0.996.3-cp38-cp38-win_amd64.whl.metadata (3.9 kB)\n",
      "Downloading mecab-0.996.3-cp38-cp38-win_amd64.whl (500 kB)\n",
      "   ---------------------------------------- 0.0/500.8 kB ? eta -:--:--\n",
      "    --------------------------------------- 10.2/500.8 kB ? eta -:--:--\n",
      "   ----- --------------------------------- 71.7/500.8 kB 991.0 kB/s eta 0:00:01\n",
      "   ---------------------------------------- 500.8/500.8 kB 3.9 MB/s eta 0:00:00\n",
      "Installing collected packages: mecab\n",
      "Successfully installed mecab-0.996.3\n"
     ]
    }
   ],
   "source": [
    "!pip install mecab "
   ]
  }
 ],
 "metadata": {
  "kernelspec": {
   "display_name": "Python 3 (ipykernel)",
   "language": "python",
   "name": "python3"
  },
  "language_info": {
   "codemirror_mode": {
    "name": "ipython",
    "version": 3
   },
   "file_extension": ".py",
   "mimetype": "text/x-python",
   "name": "python",
   "nbconvert_exporter": "python",
   "pygments_lexer": "ipython3",
   "version": "3.8.19"
  }
 },
 "nbformat": 4,
 "nbformat_minor": 5
}
